{
 "cells": [
  {
   "cell_type": "code",
   "execution_count": 30,
   "metadata": {},
   "outputs": [],
   "source": [
    "import math\n",
    "import numpy as np\n",
    "import torch\n",
    "import torch.nn as nn"
   ]
  },
  {
   "cell_type": "markdown",
   "metadata": {},
   "source": [
    "## Self Attention\n",
    "\n"
   ]
  },
  {
   "cell_type": "code",
   "execution_count": 47,
   "metadata": {},
   "outputs": [
    {
     "name": "stdout",
     "output_type": "stream",
     "text": [
      "Input shape: torch.Size([1, 4, 8])\n",
      "Output shape: torch.Size([1, 4, 8])\n",
      "\n",
      "Sample of output:\n",
      "tensor([-0.2497, -0.2451,  0.0241, -0.4867,  0.1290,  0.2022,  0.1524, -0.3079],\n",
      "       grad_fn=<SelectBackward0>)\n"
     ]
    }
   ],
   "source": [
    "class SelfAttention(nn.Module):\n",
    "    def __init__(self, d_model: int):\n",
    "        super(SelfAttention, self).__init__()\n",
    "        self.d_model = d_model\n",
    "        self.W_q = nn.Linear(d_model, d_model)\n",
    "        self.W_k = nn.Linear(d_model, d_model)\n",
    "        self.W_v = nn.Linear(d_model, d_model)\n",
    "\n",
    "    def attention(\n",
    "        self, Q: torch.Tensor, K: torch.Tensor, V: torch.Tensor\n",
    "    ) -> torch.Tensor:\n",
    "        d_k = Q.shape[-1]\n",
    "        attn_scores = torch.matmul(Q, K.transpose(-2, -1)) / math.sqrt(d_k)\n",
    "        attn_probs = torch.softmax(attn_scores, dim=1)\n",
    "        attention_output = torch.matmul(attn_probs, V)\n",
    "\n",
    "        return attention_output\n",
    "\n",
    "    def forward(\n",
    "        self, Q: torch.Tensor, K: torch.Tensor, V: torch.Tensor\n",
    "    ) -> torch.Tensor:\n",
    "        Q_prime = self.W_q(Q)\n",
    "        K_prime = self.W_k(K)\n",
    "        V_prime = self.W_v(V)\n",
    "\n",
    "        return self.attention(Q_prime, K_prime, V_prime)\n",
    "\n",
    "\n",
    "# Create test inputs\n",
    "batch_size = 1\n",
    "seq_length = 4\n",
    "d_model = 8\n",
    "\n",
    "# Create random input tensors\n",
    "x = torch.randn(batch_size, seq_length, d_model)\n",
    "\n",
    "# Initialize the self-attention module\n",
    "self_attention = SelfAttention(d_model)\n",
    "\n",
    "# Pass the same tensor as Q, K, and V (self-attention)\n",
    "output = self_attention(x, x, x)\n",
    "\n",
    "# Print shapes to verify\n",
    "print(f\"Input shape: {x.shape}\")\n",
    "print(f\"Output shape: {output.shape}\")\n",
    "\n",
    "# Print a sample of the output\n",
    "print(\"\\nSample of output:\")\n",
    "print(output[0][0])  # First 5 values of the first sequence in the first batch"
   ]
  },
  {
   "cell_type": "code",
   "execution_count": 12,
   "metadata": {},
   "outputs": [
    {
     "name": "stdout",
     "output_type": "stream",
     "text": [
      "torch.Size([5, 10])\n"
     ]
    }
   ],
   "source": [
    "def self_attention(Q, K, V):\n",
    "    return torch.softmax(Q @ K.T, dim=1) @ V\n",
    "\n",
    "\n",
    "tokens = 5\n",
    "embedding_dim = 10\n",
    "\n",
    "input_seq = torch.randn(tokens, embedding_dim)\n",
    "\n",
    "Q = input_seq.clone()\n",
    "K = input_seq.clone()\n",
    "V = input_seq.clone()\n",
    "\n",
    "attention_output = self_attention(Q, K, V)\n",
    "\n",
    "print(attention_output.shape)"
   ]
  },
  {
   "cell_type": "code",
   "execution_count": null,
   "metadata": {},
   "outputs": [],
   "source": [
    "def multi_head_attention(Q, K, V, num_heads):\n",
    "    d_k = Q.shape[1] // num_heads"
   ]
  }
 ],
 "metadata": {
  "kernelspec": {
   "display_name": ".venv",
   "language": "python",
   "name": "python3"
  },
  "language_info": {
   "codemirror_mode": {
    "name": "ipython",
    "version": 3
   },
   "file_extension": ".py",
   "mimetype": "text/x-python",
   "name": "python",
   "nbconvert_exporter": "python",
   "pygments_lexer": "ipython3",
   "version": "3.9.6"
  }
 },
 "nbformat": 4,
 "nbformat_minor": 2
}
